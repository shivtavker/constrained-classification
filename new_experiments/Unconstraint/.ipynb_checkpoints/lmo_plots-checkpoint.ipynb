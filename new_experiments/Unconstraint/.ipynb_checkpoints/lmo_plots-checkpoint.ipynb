{
 "cells": [
  {
   "cell_type": "code",
   "execution_count": 3,
   "metadata": {},
   "outputs": [],
   "source": [
    "import numpy as np\n",
    "import matplotlib.pyplot as plt\n",
    "import matplotlib.ticker as mtick"
   ]
  },
  {
   "cell_type": "code",
   "execution_count": 4,
   "metadata": {},
   "outputs": [],
   "source": [
    "plt.rcParams.update({'font.size': 20})"
   ]
  },
  {
   "cell_type": "code",
   "execution_count": 36,
   "metadata": {},
   "outputs": [],
   "source": [
    "dataset = \"MACHO\"\n",
    "split = \"test\""
   ]
  },
  {
   "cell_type": "code",
   "execution_count": 37,
   "metadata": {},
   "outputs": [],
   "source": [
    "obj_fw = np.load(\"./lmo-results-mod/fwunc-\" + dataset + \"-\" + split + \".npy\", allow_pickle=True)\n",
    "obj_3pplug = np.load(\"./lmo-results-mod/threeplayerplg-\" + dataset + \"-\" + split + \".npy\", allow_pickle=True)\n",
    "obj_el = np.load(\"./lmo-results-mod/ellipsoid-\" + dataset + \"-\" + split + \".npy\", allow_pickle=True)"
   ]
  },
  {
   "cell_type": "code",
   "execution_count": 38,
   "metadata": {},
   "outputs": [],
   "source": [
    "# obj_fw = np.vstack(([0]*10, obj_fw))\n",
    "# obj_3pplug = np.vstack(([0]*10, obj_3pplug))\n",
    "# obj_el = np.vstack(([0]*10, obj_el))"
   ]
  },
  {
   "cell_type": "code",
   "execution_count": 39,
   "metadata": {},
   "outputs": [],
   "source": [
    "# while len(obj_el) < len(obj_fw):\n",
    "#     obj_el = np.vstack((obj_el, obj_el[-1]))"
   ]
  },
  {
   "cell_type": "code",
   "execution_count": 40,
   "metadata": {},
   "outputs": [],
   "source": [
    "mean_score_fw = 1 - np.mean(obj_fw, axis=1)\n",
    "mean_score_3pplug = 1 - np.mean(obj_3pplug, axis=1)\n",
    "mean_score_el = 1 - np.mean(obj_el, axis=1)"
   ]
  },
  {
   "cell_type": "code",
   "execution_count": 41,
   "metadata": {},
   "outputs": [],
   "source": [
    "# T_vals = list([0]) + list(np.arange(5, 500, 50)) + list(np.arange(500, 1000, 500))\n",
    "# T_vals = list([0]) + list(np.arange(5, 500, 50))"
   ]
  },
  {
   "cell_type": "code",
   "execution_count": 42,
   "metadata": {},
   "outputs": [],
   "source": [
    "# T_vals = list([0]) + list(np.arange(5, 200, 50))\n",
    "T_vals = list([0]) + list(np.arange(2, 30, 2))"
   ]
  },
  {
   "cell_type": "code",
   "execution_count": 43,
   "metadata": {},
   "outputs": [
    {
     "data": {
      "text/plain": [
       "15"
      ]
     },
     "execution_count": 43,
     "metadata": {},
     "output_type": "execute_result"
    }
   ],
   "source": [
    "len(T_vals)"
   ]
  },
  {
   "cell_type": "code",
   "execution_count": 44,
   "metadata": {},
   "outputs": [
    {
     "data": {
      "text/plain": [
       "21"
      ]
     },
     "execution_count": 44,
     "metadata": {},
     "output_type": "execute_result"
    }
   ],
   "source": [
    "len(mean_score_fw)"
   ]
  },
  {
   "cell_type": "code",
   "execution_count": 45,
   "metadata": {},
   "outputs": [
    {
     "data": {
      "image/png": "[encoded data removed]",
      "text/plain": [
       "<Figure size 360x216 with 1 Axes>"
      ]
     },
     "metadata": {
      "needs_background": "light"
     },
     "output_type": "display_data"
    }
   ],
   "source": [
    "fig = plt.figure(figsize=(5,3))\n",
    "ax = fig.add_axes([0, 0, 1, 1])\n",
    "\n",
    "plt.plot(T_vals, mean_score_fw[:len(T_vals)], label=\"FW\", linestyle=\"-.\")\n",
    "plt.plot(T_vals, mean_score_3pplug[:len(T_vals)], label=\"GDA\", linestyle=\":\")\n",
    "plt.plot(T_vals, mean_score_el[:len(T_vals)], label=\"Ellipsoid\")\n",
    "\n",
    "# ax.yaxis.set_major_formatter(mtick.FormatStrFormatter('%.2e'))\n",
    "\n",
    "# plt.ylim(0.15)\n",
    "\n",
    "# extraticks = [500]\n",
    "\n",
    "plt.ylabel(\"H-mean Loss\")\n",
    "plt.xlabel(\"No. LMO Calls\")\n",
    "# plt.xticks(list(plt.xticks()[0]) + extraticks)\n",
    "# plt.xlim(-100)\n",
    "plt.legend(fontsize=20)\n",
    "plt.savefig(\"./lmo-plots/\" + dataset + \"_\" + split + \"_score.pdf\", bbox_inches=\"tight\")\n",
    "plt.show()"
   ]
  },
  {
   "cell_type": "code",
   "execution_count": 46,
   "metadata": {},
   "outputs": [],
   "source": [
    "# np.save(\"./lmo-results/fwunc-\" + dataset + \"-\" + split + \".npy\", obj_fw)"
   ]
  },
  {
   "cell_type": "code",
   "execution_count": null,
   "metadata": {},
   "outputs": [],
   "source": []
  }
 ],
 "metadata": {
  "kernelspec": {
   "display_name": "Python 3 (ipykernel)",
   "language": "python",
   "name": "python3"
  },
  "language_info": {
   "codemirror_mode": {
    "name": "ipython",
    "version": 3
   },
   "file_extension": ".py",
   "mimetype": "text/x-python",
   "name": "python",
   "nbconvert_exporter": "python",
   "pygments_lexer": "ipython3",
   "version": "3.9.7"
  }
 },
 "nbformat": 4,
 "nbformat_minor": 2
}
