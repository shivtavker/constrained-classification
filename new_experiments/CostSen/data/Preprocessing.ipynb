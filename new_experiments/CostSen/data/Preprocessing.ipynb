{
 "cells": [
  {
   "cell_type": "code",
   "execution_count": 8,
   "metadata": {},
   "outputs": [],
   "source": [
    "import numpy as np\n",
    "import pandas as pd"
   ]
  },
  {
   "cell_type": "markdown",
   "metadata": {},
   "source": [
    "### Abalone"
   ]
  },
  {
   "cell_type": "code",
   "execution_count": 2,
   "metadata": {},
   "outputs": [
    {
     "name": "stdout",
     "output_type": "stream",
     "text": [
      "Number of samples: 4177\n",
      "DONE!!\n"
     ]
    },
    {
     "name": "stderr",
     "output_type": "stream",
     "text": [
      "c:\\program files\\python37\\lib\\site-packages\\ipykernel_launcher.py:17: SettingWithCopyWarning: \n",
      "A value is trying to be set on a copy of a slice from a DataFrame\n",
      "\n",
      "See the caveats in the documentation: http://pandas.pydata.org/pandas-docs/stable/indexing.html#indexing-view-versus-copy\n",
      "c:\\program files\\python37\\lib\\site-packages\\ipykernel_launcher.py:18: SettingWithCopyWarning: \n",
      "A value is trying to be set on a copy of a slice from a DataFrame\n",
      "\n",
      "See the caveats in the documentation: http://pandas.pydata.org/pandas-docs/stable/indexing.html#indexing-view-versus-copy\n",
      "c:\\program files\\python37\\lib\\site-packages\\ipykernel_launcher.py:19: SettingWithCopyWarning: \n",
      "A value is trying to be set on a copy of a slice from a DataFrame\n",
      "\n",
      "See the caveats in the documentation: http://pandas.pydata.org/pandas-docs/stable/indexing.html#indexing-view-versus-copy\n"
     ]
    }
   ],
   "source": [
    "column_names = [\"sex\", \"length\", \"diameter\", \"height\", \"whole weight\", \n",
    "                \"shucked weight\", \"viscera weight\", \"shell weight\", \"rings\"]\n",
    "data = pd.read_csv(\"./abalone.data\", names=column_names)\n",
    "print(\"Number of samples: %d\" % len(data))\n",
    "\n",
    "## Combine Classes 1, 2, 3, 21-29\n",
    "combine_classes = [1, 2, 3, 4] + [i for i in range(16, 30)]\n",
    "Y = data.rings.values\n",
    "for i in range(len(Y)):\n",
    "    if Y[i] in combine_classes:\n",
    "        Y[i] = 0\n",
    "    else:\n",
    "        Y[i] += -4\n",
    "\n",
    "### Label Sex as I-0, F-1, M-2\n",
    "\n",
    "data.sex[data.sex == \"I\"] = 0\n",
    "data.sex[data.sex == \"F\"] = 1\n",
    "data.sex[data.sex == \"M\"] = 2\n",
    "\n",
    "data.rings = Y\n",
    "\n",
    "full_data = data.values.astype(np.float)\n",
    "np.random.shuffle(full_data)\n",
    "X = full_data[:, :len(full_data[0])-1]\n",
    "Y = full_data[:, -1].astype(int)\n",
    "final_data = {'X': X, 'Y': Y}\n",
    "\n",
    "# np.save(\"abalone_data.npy\", final_data, allow_pickle=True)\n",
    "print(\"DONE!!\")"
   ]
  },
  {
   "cell_type": "code",
   "execution_count": 4,
   "metadata": {},
   "outputs": [
    {
     "data": {
      "text/plain": [
       "12"
      ]
     },
     "execution_count": 4,
     "metadata": {},
     "output_type": "execute_result"
    }
   ],
   "source": [
    "len(np.unique(Y))"
   ]
  },
  {
   "cell_type": "markdown",
   "metadata": {},
   "source": [
    "### Glass"
   ]
  },
  {
   "cell_type": "code",
   "execution_count": 7,
   "metadata": {},
   "outputs": [
    {
     "name": "stdout",
     "output_type": "stream",
     "text": [
      "Number of samples: 214\n",
      "DONE!!\n"
     ]
    }
   ],
   "source": [
    "data = pd.read_csv(\"./glass.data\", header=None)\n",
    "print(\"Number of samples: %d\" % len(data))\n",
    "\n",
    "full_data = data.values.astype(np.float)\n",
    "np.random.shuffle(full_data)\n",
    "X = full_data[:, 1:len(full_data[0])-1]\n",
    "Y = full_data[:, -1].astype(int) - 1\n",
    "Y[Y>2] = Y[Y>2]-1\n",
    "final_data = {'X': X, 'Y': Y}\n",
    "\n",
    "np.save(\"glass_data.npy\", final_data, allow_pickle=True)\n",
    "print(\"DONE!!\")"
   ]
  },
  {
   "cell_type": "code",
   "execution_count": 8,
   "metadata": {},
   "outputs": [
    {
     "data": {
      "text/plain": [
       "array([0, 1, 2, 3, 4, 5])"
      ]
     },
     "execution_count": 8,
     "metadata": {},
     "output_type": "execute_result"
    }
   ],
   "source": [
    "np.unique(Y)"
   ]
  },
  {
   "cell_type": "code",
   "execution_count": 9,
   "metadata": {},
   "outputs": [
    {
     "data": {
      "text/plain": [
       "(214, 9)"
      ]
     },
     "execution_count": 9,
     "metadata": {},
     "output_type": "execute_result"
    }
   ],
   "source": [
    "X.shape"
   ]
  },
  {
   "cell_type": "markdown",
   "metadata": {},
   "source": [
    "### Page Blocks"
   ]
  },
  {
   "cell_type": "code",
   "execution_count": 10,
   "metadata": {},
   "outputs": [
    {
     "name": "stdout",
     "output_type": "stream",
     "text": [
      "Number of samples: 5473\n",
      "DONE!!\n"
     ]
    }
   ],
   "source": [
    "data = pd.read_csv(\"./page-blocks.data\", header=None)\n",
    "print(\"Number of samples: %d\" % len(data))\n",
    "\n",
    "full_data = data.values.astype(np.float)\n",
    "np.random.shuffle(full_data)\n",
    "X = full_data[:, 1:len(full_data[0])-1]\n",
    "Y = full_data[:, -1].astype(int) - 1\n",
    "final_data = {'X': X, 'Y': Y}\n",
    "\n",
    "# np.save(\"pageblocks_data.npy\", final_data, allow_pickle=True)\n",
    "print(\"DONE!!\")"
   ]
  },
  {
   "cell_type": "code",
   "execution_count": 11,
   "metadata": {},
   "outputs": [
    {
     "data": {
      "text/plain": [
       "array([0, 1, 2, 3, 4])"
      ]
     },
     "execution_count": 11,
     "metadata": {},
     "output_type": "execute_result"
    }
   ],
   "source": [
    "np.unique(Y)"
   ]
  },
  {
   "cell_type": "code",
   "execution_count": 12,
   "metadata": {},
   "outputs": [
    {
     "data": {
      "text/plain": [
       "(5473, 10)"
      ]
     },
     "execution_count": 12,
     "metadata": {},
     "output_type": "execute_result"
    }
   ],
   "source": [
    "X.shape"
   ]
  },
  {
   "cell_type": "markdown",
   "metadata": {},
   "source": [
    "### Adult"
   ]
  },
  {
   "cell_type": "code",
   "execution_count": 5,
   "metadata": {},
   "outputs": [],
   "source": [
    "data_dict = np.load(\"adult_data.npy\", allow_pickle=True).item()\n",
    "# X = np.concatenate((data_dict['X_train'], data_dict['X_test']), axis = 0)\n",
    "# Y = np.concatenate((data_dict['y_train'], data_dict['y_test']), axis = 0)\n",
    "# final_data = {'X': X, 'Y': Y}\n",
    "\n",
    "# np.save(\"adult_new_data.npy\", final_data, allow_pickle=True)\n",
    "# print(\"DONE!!\")\n",
    "\n",
    "X = data_dict['X']\n",
    "Y = data_dict['Y']"
   ]
  },
  {
   "cell_type": "code",
   "execution_count": 6,
   "metadata": {},
   "outputs": [
    {
     "data": {
      "text/plain": [
       "(48842, 123)"
      ]
     },
     "execution_count": 6,
     "metadata": {},
     "output_type": "execute_result"
    }
   ],
   "source": [
    "X.shape"
   ]
  },
  {
   "cell_type": "markdown",
   "metadata": {},
   "source": [
    "### Cifar 10"
   ]
  },
  {
   "cell_type": "code",
   "execution_count": 1,
   "metadata": {},
   "outputs": [],
   "source": [
    "def unpickle(file):\n",
    "    import pickle\n",
    "    with open(file, 'rb') as fo:\n",
    "        dict = pickle.load(fo, encoding='bytes')\n",
    "    return dict"
   ]
  },
  {
   "cell_type": "code",
   "execution_count": 2,
   "metadata": {},
   "outputs": [],
   "source": [
    "dict_batch = unpickle(\"./cifar-10-batches-py/data_batch_1\")"
   ]
  },
  {
   "cell_type": "code",
   "execution_count": 4,
   "metadata": {},
   "outputs": [
    {
     "name": "stdout",
     "output_type": "stream",
     "text": [
      "b'batch_label'\n",
      "b'labels'\n",
      "b'data'\n",
      "b'filenames'\n"
     ]
    }
   ],
   "source": [
    "for key in dict_batch:\n",
    "    print(key)"
   ]
  },
  {
   "cell_type": "code",
   "execution_count": 5,
   "metadata": {},
   "outputs": [
    {
     "data": {
      "text/plain": [
       "array([[ 59,  43,  50, ..., 140,  84,  72],\n",
       "       [154, 126, 105, ..., 139, 142, 144],\n",
       "       [255, 253, 253, ...,  83,  83,  84],\n",
       "       ...,\n",
       "       [ 71,  60,  74, ...,  68,  69,  68],\n",
       "       [250, 254, 211, ..., 215, 255, 254],\n",
       "       [ 62,  61,  60, ..., 130, 130, 131]], dtype=uint8)"
      ]
     },
     "execution_count": 5,
     "metadata": {},
     "output_type": "execute_result"
    }
   ],
   "source": [
    "dict_batch[b'data']"
   ]
  },
  {
   "cell_type": "code",
   "execution_count": 15,
   "metadata": {},
   "outputs": [],
   "source": [
    "data = []\n",
    "labels = []\n",
    "\n",
    "for i in range(1, 6):\n",
    "    dict_batch = unpickle(\"./cifar-10-batches-py/data_batch_\" + str(i))\n",
    "    data.append(dict_batch[b'data'])\n",
    "    labels.append(dict_batch[b'labels'])\n",
    "\n",
    "dict_batch = unpickle(\"./cifar-10-batches-py/test_batch\")\n",
    "data.append(dict_batch[b'data'])\n",
    "labels.append(dict_batch[b'labels'])"
   ]
  },
  {
   "cell_type": "code",
   "execution_count": 16,
   "metadata": {},
   "outputs": [],
   "source": [
    "data_full = np.concatenate(data, axis = 0)\n",
    "labels_full = np.concatenate(labels, axis = 0)"
   ]
  },
  {
   "cell_type": "code",
   "execution_count": 17,
   "metadata": {},
   "outputs": [
    {
     "data": {
      "text/plain": [
       "(60000, 3072)"
      ]
     },
     "execution_count": 17,
     "metadata": {},
     "output_type": "execute_result"
    }
   ],
   "source": [
    "data_full.shape"
   ]
  },
  {
   "cell_type": "code",
   "execution_count": 18,
   "metadata": {},
   "outputs": [
    {
     "data": {
      "text/plain": [
       "(60000,)"
      ]
     },
     "execution_count": 18,
     "metadata": {},
     "output_type": "execute_result"
    }
   ],
   "source": [
    "labels_full.shape"
   ]
  },
  {
   "cell_type": "code",
   "execution_count": 19,
   "metadata": {},
   "outputs": [
    {
     "name": "stdout",
     "output_type": "stream",
     "text": [
      "DONE!!\n"
     ]
    }
   ],
   "source": [
    "final_data = {'X': data_full, 'Y': labels_full}\n",
    "\n",
    "np.save(\"cifar_data.npy\", final_data, allow_pickle=True)\n",
    "print(\"DONE!!\")"
   ]
  },
  {
   "cell_type": "code",
   "execution_count": 21,
   "metadata": {},
   "outputs": [],
   "source": [
    "import torchvision.transforms as transforms\n",
    "from torchvision.datasets import CIFAR10\n",
    "from torch.utils.data import DataLoader"
   ]
  },
  {
   "cell_type": "code",
   "execution_count": 22,
   "metadata": {},
   "outputs": [],
   "source": [
    "mean = [0.4914, 0.4822, 0.4465]\n",
    "std = [0.2023, 0.1994, 0.2010]"
   ]
  },
  {
   "cell_type": "code",
   "execution_count": 24,
   "metadata": {},
   "outputs": [],
   "source": [
    "def train_dataloader(self):\n",
    "    transform_train = transforms.Compose([transforms.RandomCrop(32, padding=4),\n",
    "                                          transforms.RandomHorizontalFlip(),\n",
    "                                          transforms.ToTensor(),\n",
    "                                          transforms.Normalize(self.mean, self.std)])\n",
    "    dataset = CIFAR10(root=self.hparams.data_dir, train=True, transform=transform_train)\n",
    "    dataloader = DataLoader(dataset, batch_size=len(dataset), shuffle=True, drop_last=True)\n",
    "    return dataloader"
   ]
  },
  {
   "cell_type": "code",
   "execution_count": null,
   "metadata": {},
   "outputs": [],
   "source": []
  }
 ],
 "metadata": {
  "kernelspec": {
   "display_name": "Python 3",
   "language": "python",
   "name": "python3"
  },
  "language_info": {
   "codemirror_mode": {
    "name": "ipython",
    "version": 3
   },
   "file_extension": ".py",
   "mimetype": "text/x-python",
   "name": "python",
   "nbconvert_exporter": "python",
   "pygments_lexer": "ipython3",
   "version": "3.7.3"
  }
 },
 "nbformat": 4,
 "nbformat_minor": 2
}
