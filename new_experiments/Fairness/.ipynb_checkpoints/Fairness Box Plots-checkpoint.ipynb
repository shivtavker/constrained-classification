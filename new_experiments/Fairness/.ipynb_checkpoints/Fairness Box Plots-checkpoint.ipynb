{
 "cells": [
  {
   "cell_type": "code",
   "execution_count": 1,
   "metadata": {},
   "outputs": [],
   "source": [
    "import matplotlib.pyplot as plt\n",
    "import numpy as np"
   ]
  },
  {
   "cell_type": "code",
   "execution_count": 169,
   "metadata": {},
   "outputs": [],
   "source": [
    "name = \"lawschool\"\n",
    "split = \"test\""
   ]
  },
  {
   "cell_type": "code",
   "execution_count": 170,
   "metadata": {},
   "outputs": [],
   "source": [
    "obj_fw = np.load('./Results/fwunc_' + name + '_' + split + '_scores.npy')\n",
    "obj_ballr = np.load('./Results/lr_' + name + '_' + split + '_scores.npy')\n",
    "obj_sbfw = np.load('./Results/sbfw_' + name + '_' + split + '_scores.npy')\n",
    "obj_3p = np.load('./Results/3player_' + name + '_' + split + '_scores.npy')\n",
    "obj_el = np.load('./new-results/ellipsoid_' + name + '_' + split + '_scores.npy')\n",
    "obj_3pplug = np.load('./new-results/3pplug_' + name + '_' + split + '_scores.npy')"
   ]
  },
  {
   "cell_type": "code",
   "execution_count": 171,
   "metadata": {},
   "outputs": [
    {
     "data": {
      "text/plain": [
       "array([0.77956319, 0.78895084, 0.77189876, 0.78913104, 0.77897599,\n",
       "       0.7752342 , 0.78184287, 0.76871696, 0.77518279, 0.76699933])"
      ]
     },
     "execution_count": 171,
     "metadata": {},
     "output_type": "execute_result"
    }
   ],
   "source": [
    "obj_3pplug"
   ]
  },
  {
   "cell_type": "code",
   "execution_count": 172,
   "metadata": {},
   "outputs": [
    {
     "data": {
      "image/png": "[encoded data removed]",
      "text/plain": [
       "<Figure size 432x288 with 1 Axes>"
      ]
     },
     "metadata": {
      "needs_background": "light"
     },
     "output_type": "display_data"
    }
   ],
   "source": [
    "fig = plt.figure(figsize =(6, 4)) \n",
    "  \n",
    "# Creating axes instance \n",
    "ax = fig.add_axes([0, 0, 1, 1]) \n",
    "  \n",
    "# Creating plot \n",
    "bp = ax.boxplot([obj_ballr, obj_fw, obj_sbfw, obj_3p, obj_el, obj_3pplug], showfliers=False) \n",
    "ax.set_xticklabels(['Bal-LR', 'FW-Unc', 'SBFW', 'Lib-3Pl',  \n",
    "                    'Ellipsoid', 'Plug-3P'], fontsize=14) \n",
    "# show plot\n",
    "# plt.title(\"Box Plot - Hmean Score\")\n",
    "ax.tick_params(axis='y', labelsize=14)\n",
    "# plt.xlabel(fontsize=20)\n",
    "# plt.ylim(0.8, 0.85)\n",
    "plt.ylabel(\"G-mean Score\", fontsize=14)\n",
    "# plt.savefig(\"./plots/\" + name + \"_\" + split + \"_gmeanscore_boxplot.pdf\", bbox_inches=\"tight\")\n",
    "plt.show() "
   ]
  },
  {
   "cell_type": "code",
   "execution_count": 173,
   "metadata": {},
   "outputs": [],
   "source": [
    "cons_fw = np.load('./Results/fwunc_' + name + '_' + split + '_cons.npy')\n",
    "cons_ballr = np.load('./Results/lr_' + name + '_' + split + '_cons.npy')\n",
    "cons_sbfw = np.load('./Results/sbfw_' + name + '_' + split + '_cons.npy')\n",
    "cons_3p = np.load('./Results/3player_' + name + '_' + split + '_cons.npy')\n",
    "cons_el = np.load('./new-results/ellipsoid_' + name + '_' + split + '_cons.npy')\n",
    "cons_3pplug = np.load('./new-results/3pplug_' + name + '_' + split + '_cons.npy')"
   ]
  },
  {
   "cell_type": "code",
   "execution_count": 174,
   "metadata": {},
   "outputs": [
    {
     "data": {
      "text/plain": [
       "array([0.04447487, 0.08011044, 0.05828039, 0.04567209, 0.05616625,\n",
       "       0.03631874, 0.05695353, 0.0716582 , 0.01095591, 0.0460349 ])"
      ]
     },
     "execution_count": 174,
     "metadata": {},
     "output_type": "execute_result"
    }
   ],
   "source": [
    "cons_el"
   ]
  },
  {
   "cell_type": "code",
   "execution_count": 175,
   "metadata": {
    "scrolled": false
   },
   "outputs": [
    {
     "data": {
      "image/png": "[encoded data removed]",
      "text/plain": [
       "<Figure size 432x288 with 1 Axes>"
      ]
     },
     "metadata": {
      "needs_background": "light"
     },
     "output_type": "display_data"
    }
   ],
   "source": [
    "fig = plt.figure(figsize =(6, 4)) \n",
    "  \n",
    "# Creating axes instance \n",
    "ax = fig.add_axes([0, 0, 1, 1]) \n",
    "  \n",
    "# Creating plot \n",
    "bp = ax.boxplot([cons_ballr, cons_fw, cons_sbfw, cons_3p, cons_el, cons_3pplug], showfliers=False) \n",
    "ax.set_xticklabels(['Bal-LR', 'FW-Unc', 'SBFW', 'Lib-3Pl',  \n",
    "                    'Ellipsoid', 'Plug-3P'], fontsize=14) \n",
    "# show plot\n",
    "# plt.title(\"Box Plot - Hmean Score\")\n",
    "ax.tick_params(axis='y', labelsize=14)\n",
    "ax.fill_between([0, 1, 2, 3, 4, 5, 6, 7], 0, 0.05, facecolor=\"green\", alpha=0.25)\n",
    "# plt.xlabel(fontsize=20)\n",
    "plt.ylim(0.00)\n",
    "\n",
    "plt.ylabel(\"EOpp Value\", fontsize=14)\n",
    "plt.savefig(\"./plots/\" + name + \"_\" + split + \"_eopp_boxplot.pdf\", bbox_inches=\"tight\")\n",
    "plt.show() "
   ]
  },
  {
   "cell_type": "code",
   "execution_count": 176,
   "metadata": {},
   "outputs": [
    {
     "data": {
      "text/plain": [
       "array([0.04553412, 0.08142926, 0.06112132, 0.04717038, 0.05648166,\n",
       "       0.03619564, 0.04858274, 0.07695164, 0.00771655, 0.04731077])"
      ]
     },
     "execution_count": 176,
     "metadata": {},
     "output_type": "execute_result"
    }
   ],
   "source": [
    "cons_3pplug"
   ]
  },
  {
   "cell_type": "code",
   "execution_count": 177,
   "metadata": {},
   "outputs": [
    {
     "data": {
      "text/plain": [
       "array([0.77956319, 0.78895084, 0.77189876, 0.78913104, 0.77897599,\n",
       "       0.7752342 , 0.78184287, 0.76871696, 0.77518279, 0.76699933])"
      ]
     },
     "execution_count": 177,
     "metadata": {},
     "output_type": "execute_result"
    }
   ],
   "source": [
    "obj_3pplug"
   ]
  },
  {
   "cell_type": "code",
   "execution_count": 178,
   "metadata": {},
   "outputs": [
    {
     "data": {
      "text/plain": [
       "array([0.78297183, 0.78620408, 0.76958831, 0.79098134, 0.78038621,\n",
       "       0.77990654, 0.77806785, 0.76826309, 0.77395138, 0.76296144])"
      ]
     },
     "execution_count": 178,
     "metadata": {},
     "output_type": "execute_result"
    }
   ],
   "source": [
    "obj_el"
   ]
  },
  {
   "cell_type": "code",
   "execution_count": 179,
   "metadata": {},
   "outputs": [
    {
     "data": {
      "text/plain": [
       "array([0.04447487, 0.08011044, 0.05828039, 0.04567209, 0.05616625,\n",
       "       0.03631874, 0.05695353, 0.0716582 , 0.01095591, 0.0460349 ])"
      ]
     },
     "execution_count": 179,
     "metadata": {},
     "output_type": "execute_result"
    }
   ],
   "source": [
    "cons_el"
   ]
  },
  {
   "cell_type": "code",
   "execution_count": null,
   "metadata": {},
   "outputs": [],
   "source": []
  }
 ],
 "metadata": {
  "kernelspec": {
   "display_name": "Python 3",
   "language": "python",
   "name": "python3"
  },
  "language_info": {
   "codemirror_mode": {
    "name": "ipython",
    "version": 3
   },
   "file_extension": ".py",
   "mimetype": "text/x-python",
   "name": "python",
   "nbconvert_exporter": "python",
   "pygments_lexer": "ipython3",
   "version": "3.7.3"
  }
 },
 "nbformat": 4,
 "nbformat_minor": 2
}
