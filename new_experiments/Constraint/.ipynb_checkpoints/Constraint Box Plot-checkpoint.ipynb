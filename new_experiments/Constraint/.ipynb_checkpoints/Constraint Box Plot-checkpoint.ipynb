{
 "cells": [
  {
   "cell_type": "code",
   "execution_count": 1,
   "metadata": {},
   "outputs": [],
   "source": [
    "import matplotlib.pyplot as plt\n",
    "import numpy as np\n",
    "import seaborn as sns"
   ]
  },
  {
   "cell_type": "code",
   "execution_count": 2,
   "metadata": {},
   "outputs": [],
   "source": [
    "name = \"pageblocks\"\n",
    "split = \"test\""
   ]
  },
  {
   "cell_type": "code",
   "execution_count": 3,
   "metadata": {},
   "outputs": [],
   "source": [
    "obj_fw = np.load('./Results/fwunc_' + name + '_' + split + '_scores.npy')\n",
    "obj_ballr = np.load('./Results/ballogreg_' + name + '_' + split + '_scores.npy')\n",
    "obj_sbfw = np.load('./Results/sbfw_' + name + '_' + split + '_scores.npy')\n",
    "obj_3p = np.load('./Results/3plib_' + name + '_' + split + '_scores.npy')\n",
    "obj_el = np.load('./Results/elp_' + name + '_' + split + '_scores.npy')\n",
    "obj_3pplug = np.load('./Results/3pplug_' + name + '_' + split + '_scores.npy')"
   ]
  },
  {
   "cell_type": "code",
   "execution_count": 4,
   "metadata": {},
   "outputs": [
    {
     "data": {
      "text/plain": [
       "array([0.62072587, 0.78602983, 0.78505796, 0.86590424, 0.93761154,\n",
       "       0.72726696, 0.72777934, 0.80462896, 0.78855185, 0.78336875])"
      ]
     },
     "execution_count": 4,
     "metadata": {},
     "output_type": "execute_result"
    }
   ],
   "source": [
    "obj_el"
   ]
  },
  {
   "cell_type": "code",
   "execution_count": 5,
   "metadata": {},
   "outputs": [
    {
     "data": {
      "text/plain": [
       "array([0.8792827 , 0.90900562, 0.91147744, 0.89198382, 0.95393086,\n",
       "       0.81871898, 0.79786468, 0.85460176, 0.89239693, 0.91797639])"
      ]
     },
     "execution_count": 5,
     "metadata": {},
     "output_type": "execute_result"
    }
   ],
   "source": [
    "obj_fw"
   ]
  },
  {
   "cell_type": "code",
   "execution_count": 17,
   "metadata": {},
   "outputs": [
    {
     "data": {
      "image/png": "[encoded data removed]",
      "text/plain": [
       "<Figure size 432x288 with 1 Axes>"
      ]
     },
     "metadata": {
      "needs_background": "light"
     },
     "output_type": "display_data"
    }
   ],
   "source": [
    "fig = plt.figure(figsize =(6, 4)) \n",
    "  \n",
    "# Creating axes instance \n",
    "ax = fig.add_axes([0, 0, 1, 1]) \n",
    "  \n",
    "# Creating plot \n",
    "bp = ax.boxplot([obj_ballr, obj_fw, obj_sbfw, obj_3p, obj_el, obj_3pplug], showfliers=False) \n",
    "ax.set_xticklabels(['Bal-LR', 'FW-Unc', 'SBFW', 'Lib-3Pl',  \n",
    "                    'Ellipsoid', 'Plug-3P'], fontsize=14) \n",
    "# show plot\n",
    "# plt.title(\"Box Plot - Hmean Score\")\n",
    "ax.tick_params(axis='y', labelsize=14)\n",
    "# plt.xlabel(fontsize=20)\n",
    "plt.savefig(\"./plots/\" + name + \"_\" + split + \"_hmeanscore_boxplot.pdf\", bbox_inches=\"tight\")\n",
    "plt.show() "
   ]
  },
  {
   "cell_type": "code",
   "execution_count": 18,
   "metadata": {},
   "outputs": [],
   "source": [
    "cons_fw = np.load('./Results/fwunc_' + name + '_' + split + '_cons.npy')\n",
    "cons_ballr = np.load('./Results/ballogreg_' + name + '_' + split + '_cons.npy')\n",
    "cons_sbfw = np.load('./Results/sbfw_' + name + '_' + split + '_cons.npy')\n",
    "cons_3p = np.load('./Results/3plib_' + name + '_' + split + '_cons.npy')\n",
    "cons_el = np.load('./Results/elp_' + name + '_' + split + '_cons.npy')\n",
    "cons_3pplug = np.load('./Results/3pplug_' + name + '_' + split + '_cons.npy')"
   ]
  },
  {
   "cell_type": "code",
   "execution_count": 19,
   "metadata": {},
   "outputs": [
    {
     "data": {
      "image/png": "[encoded data removed]",
      "text/plain": [
       "<Figure size 432x288 with 1 Axes>"
      ]
     },
     "metadata": {
      "needs_background": "light"
     },
     "output_type": "display_data"
    }
   ],
   "source": [
    "fig = plt.figure(figsize =(6, 4)) \n",
    "  \n",
    "# Creating axes instance \n",
    "ax = fig.add_axes([0, 0, 1, 1]) \n",
    "  \n",
    "# Creating plot \n",
    "bp = ax.boxplot([cons_ballr, cons_fw, cons_sbfw, cons_3p, cons_el, cons_3pplug], showfliers=False) \n",
    "ax.set_xticklabels(['Bal-LR', 'FW-Unc', 'SBFW', 'Lib-3Pl',  \n",
    "                    'Ellipsoid', 'Plug-3P'], fontsize=14) \n",
    "# show plot\n",
    "# plt.title(\"Box Plot - Hmean Score\")\n",
    "ax.tick_params(axis='y', labelsize=14)\n",
    "ax.fill_between([0, 1, 2, 3, 4, 5, 6, 7], 0, 0.01, facecolor=\"green\", alpha=0.25)\n",
    "# plt.xlabel(fontsize=20)\n",
    "plt.ylim(0.0)\n",
    "plt.savefig(\"./plots/\" + name + \"_\" + split + \"_cov_boxplot.pdf\", bbox_inches=\"tight\")\n",
    "plt.show() "
   ]
  },
  {
   "cell_type": "code",
   "execution_count": null,
   "metadata": {},
   "outputs": [],
   "source": []
  },
  {
   "cell_type": "code",
   "execution_count": null,
   "metadata": {},
   "outputs": [],
   "source": []
  }
 ],
 "metadata": {
  "kernelspec": {
   "display_name": "Python 3",
   "language": "python",
   "name": "python3"
  },
  "language_info": {
   "codemirror_mode": {
    "name": "ipython",
    "version": 3
   },
   "file_extension": ".py",
   "mimetype": "text/x-python",
   "name": "python",
   "nbconvert_exporter": "python",
   "pygments_lexer": "ipython3",
   "version": "3.7.3"
  }
 },
 "nbformat": 4,
 "nbformat_minor": 2
}
